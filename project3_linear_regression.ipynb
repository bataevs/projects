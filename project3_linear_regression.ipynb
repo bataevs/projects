{
 "cells": [
  {
   "cell_type": "code",
   "execution_count": null,
   "id": "f66669db-a1fa-4bf8-be7a-6b3dfebd5303",
   "metadata": {},
   "outputs": [],
   "source": [
    "Применим линейную регрессию чтобы, предсказать стоимость машин и понять, \n",
    "от каких факторов зависит ценообразование на автомобили. \n",
    "Помимо этого узнаем, какие переменные важны для прогнозирования и насколько хорошо полученная модель описывает данные."
   ]
  },
  {
   "cell_type": "code",
   "execution_count": 3,
   "id": "aefe24dc-6301-4945-8a26-e4b31f10111b",
   "metadata": {},
   "outputs": [],
   "source": [
    "import pandas as pd\n",
    "import numpy as np\n",
    "import seaborn as sns\n",
    "sns.set(rc={'figure.figsize':(20,17)}, style='whitegrid')"
   ]
  },
  {
   "cell_type": "code",
   "execution_count": 4,
   "id": "122b5eba-1370-48da-8ad6-7ab01dff48a9",
   "metadata": {},
   "outputs": [],
   "source": [
    "df = pd.read_csv('cars.csv')"
   ]
  },
  {
   "cell_type": "code",
   "execution_count": null,
   "id": "ef785ede-f4fb-401b-a736-461be7ca2ae6",
   "metadata": {},
   "outputs": [],
   "source": [
    "Создадим новый признак - марку автомобиля"
   ]
  },
  {
   "cell_type": "code",
   "execution_count": 10,
   "id": "954959a4-a2fa-47ee-9864-66a4beb3151f",
   "metadata": {},
   "outputs": [],
   "source": [
    "df['company'] = df.CarName.apply(lambda x: x.split(' ')[0])"
   ]
  },
  {
   "cell_type": "code",
   "execution_count": null,
   "id": "dc58c2dd-7613-4019-ba0f-14cd71f851f8",
   "metadata": {},
   "outputs": [],
   "source": [
    "Удалим ненужные столбцы"
   ]
  },
  {
   "cell_type": "code",
   "execution_count": null,
   "id": "8ea0ca18-dda6-48d6-9416-5b5e221fb5a0",
   "metadata": {},
   "outputs": [],
   "source": [
    "df.drop('car_ID', axis='columns', inplace=True)"
   ]
  },
  {
   "cell_type": "code",
   "execution_count": 20,
   "id": "58b01704-ef7f-4d89-89cc-fe6c4eb4b0af",
   "metadata": {},
   "outputs": [],
   "source": [
    "df.drop('CarName', axis='columns', inplace=True)"
   ]
  },
  {
   "cell_type": "code",
   "execution_count": 25,
   "id": "5c8036fd-8d34-4e49-a802-e61bdc0ca2aa",
   "metadata": {},
   "outputs": [
    {
     "data": {
      "text/plain": [
       "array(['alfa-romero', 'audi', 'bmw', 'chevrolet', 'dodge', 'honda',\n",
       "       'isuzu', 'jaguar', 'maxda', 'mazda', 'buick', 'mercury',\n",
       "       'mitsubishi', 'Nissan', 'nissan', 'peugeot', 'plymouth', 'porsche',\n",
       "       'porcshce', 'renault', 'saab', 'subaru', 'toyota', 'toyouta',\n",
       "       'vokswagen', 'volkswagen', 'vw', 'volvo'], dtype=object)"
      ]
     },
     "execution_count": 25,
     "metadata": {},
     "output_type": "execute_result"
    }
   ],
   "source": [
    "df.company.unique()\n",
    "# Есть ошибки в названиях марок"
   ]
  },
  {
   "cell_type": "code",
   "execution_count": 27,
   "id": "29602593-ed61-4de7-bad4-122b0ea8d2f4",
   "metadata": {},
   "outputs": [],
   "source": [
    "df.company = df.company.str.lower()"
   ]
  },
  {
   "cell_type": "code",
   "execution_count": 30,
   "id": "2234e62f-3f7a-4b86-bcd2-531006971364",
   "metadata": {},
   "outputs": [],
   "source": [
    "def change_names(name_1, name_2):\n",
    "    df.company.replace(name_1, name_2, inplace=True)"
   ]
  },
  {
   "cell_type": "code",
   "execution_count": 31,
   "id": "aa521b69-80b4-4c00-bd13-6d090ab6ca2a",
   "metadata": {},
   "outputs": [
    {
     "name": "stderr",
     "output_type": "stream",
     "text": [
      "C:\\Users\\user\\AppData\\Local\\Temp\\ipykernel_22080\\338973360.py:2: FutureWarning: A value is trying to be set on a copy of a DataFrame or Series through chained assignment using an inplace method.\n",
      "The behavior will change in pandas 3.0. This inplace method will never work because the intermediate object on which we are setting values always behaves as a copy.\n",
      "\n",
      "For example, when doing 'df[col].method(value, inplace=True)', try using 'df.method({col: value}, inplace=True)' or df[col] = df[col].method(value) instead, to perform the operation inplace on the original object.\n",
      "\n",
      "\n",
      "  df.company.replace(name_1, name_2, inplace=True)\n"
     ]
    }
   ],
   "source": [
    "change_names('maxda', 'mazda')\n",
    "change_names('porcshce', 'porsche')\n",
    "change_names('toyouta', 'toyota')\n",
    "change_names('vokswagen', 'volkswagen')\n",
    "change_names('vw', 'volkswagen')"
   ]
  },
  {
   "cell_type": "code",
   "execution_count": 32,
   "id": "16d8eccb-e9bc-4581-9506-67b94f2b6500",
   "metadata": {},
   "outputs": [
    {
     "data": {
      "text/plain": [
       "array(['alfa-romero', 'audi', 'bmw', 'chevrolet', 'dodge', 'honda',\n",
       "       'isuzu', 'jaguar', 'mazda', 'buick', 'mercury', 'mitsubishi',\n",
       "       'nissan', 'peugeot', 'plymouth', 'porsche', 'renault', 'saab',\n",
       "       'subaru', 'toyota', 'volkswagen', 'volvo'], dtype=object)"
      ]
     },
     "execution_count": 32,
     "metadata": {},
     "output_type": "execute_result"
    }
   ],
   "source": [
    "df.company.unique()"
   ]
  },
  {
   "cell_type": "code",
   "execution_count": null,
   "id": "ddc94aa7-6ad1-4424-8f7f-74956b8b194e",
   "metadata": {},
   "outputs": [],
   "source": []
  },
  {
   "cell_type": "code",
   "execution_count": null,
   "id": "6a95bfa1-bd0d-4e77-ad3c-ac33f5d9e399",
   "metadata": {},
   "outputs": [],
   "source": [
    "Оставим только нужные стлобцы"
   ]
  },
  {
   "cell_type": "code",
   "execution_count": 33,
   "id": "78a72a65-917e-4db8-b34a-57397be62f4c",
   "metadata": {},
   "outputs": [],
   "source": [
    "cars = df[['company', 'fueltype', 'aspiration','carbody', 'drivewheel', 'wheelbase', 'carlength','carwidth', 'curbweight', 'enginetype', 'cylindernumber', 'enginesize', 'boreratio','horsepower', 'price']]"
   ]
  },
  {
   "cell_type": "code",
   "execution_count": 34,
   "id": "fa1ce6ca-c3c4-44eb-8663-a79184d7486c",
   "metadata": {},
   "outputs": [
    {
     "data": {
      "text/html": [
       "<div>\n",
       "<style scoped>\n",
       "    .dataframe tbody tr th:only-of-type {\n",
       "        vertical-align: middle;\n",
       "    }\n",
       "\n",
       "    .dataframe tbody tr th {\n",
       "        vertical-align: top;\n",
       "    }\n",
       "\n",
       "    .dataframe thead th {\n",
       "        text-align: right;\n",
       "    }\n",
       "</style>\n",
       "<table border=\"1\" class=\"dataframe\">\n",
       "  <thead>\n",
       "    <tr style=\"text-align: right;\">\n",
       "      <th></th>\n",
       "      <th>company</th>\n",
       "      <th>fueltype</th>\n",
       "      <th>aspiration</th>\n",
       "      <th>carbody</th>\n",
       "      <th>drivewheel</th>\n",
       "      <th>wheelbase</th>\n",
       "      <th>carlength</th>\n",
       "      <th>carwidth</th>\n",
       "      <th>curbweight</th>\n",
       "      <th>enginetype</th>\n",
       "      <th>cylindernumber</th>\n",
       "      <th>enginesize</th>\n",
       "      <th>boreratio</th>\n",
       "      <th>horsepower</th>\n",
       "      <th>price</th>\n",
       "    </tr>\n",
       "  </thead>\n",
       "  <tbody>\n",
       "    <tr>\n",
       "      <th>0</th>\n",
       "      <td>alfa-romero</td>\n",
       "      <td>gas</td>\n",
       "      <td>std</td>\n",
       "      <td>convertible</td>\n",
       "      <td>rwd</td>\n",
       "      <td>88.6</td>\n",
       "      <td>168.8</td>\n",
       "      <td>64.1</td>\n",
       "      <td>2548</td>\n",
       "      <td>dohc</td>\n",
       "      <td>four</td>\n",
       "      <td>130</td>\n",
       "      <td>3.47</td>\n",
       "      <td>111</td>\n",
       "      <td>13495.0</td>\n",
       "    </tr>\n",
       "    <tr>\n",
       "      <th>1</th>\n",
       "      <td>alfa-romero</td>\n",
       "      <td>gas</td>\n",
       "      <td>std</td>\n",
       "      <td>convertible</td>\n",
       "      <td>rwd</td>\n",
       "      <td>88.6</td>\n",
       "      <td>168.8</td>\n",
       "      <td>64.1</td>\n",
       "      <td>2548</td>\n",
       "      <td>dohc</td>\n",
       "      <td>four</td>\n",
       "      <td>130</td>\n",
       "      <td>3.47</td>\n",
       "      <td>111</td>\n",
       "      <td>16500.0</td>\n",
       "    </tr>\n",
       "    <tr>\n",
       "      <th>2</th>\n",
       "      <td>alfa-romero</td>\n",
       "      <td>gas</td>\n",
       "      <td>std</td>\n",
       "      <td>hatchback</td>\n",
       "      <td>rwd</td>\n",
       "      <td>94.5</td>\n",
       "      <td>171.2</td>\n",
       "      <td>65.5</td>\n",
       "      <td>2823</td>\n",
       "      <td>ohcv</td>\n",
       "      <td>six</td>\n",
       "      <td>152</td>\n",
       "      <td>2.68</td>\n",
       "      <td>154</td>\n",
       "      <td>16500.0</td>\n",
       "    </tr>\n",
       "    <tr>\n",
       "      <th>3</th>\n",
       "      <td>audi</td>\n",
       "      <td>gas</td>\n",
       "      <td>std</td>\n",
       "      <td>sedan</td>\n",
       "      <td>fwd</td>\n",
       "      <td>99.8</td>\n",
       "      <td>176.6</td>\n",
       "      <td>66.2</td>\n",
       "      <td>2337</td>\n",
       "      <td>ohc</td>\n",
       "      <td>four</td>\n",
       "      <td>109</td>\n",
       "      <td>3.19</td>\n",
       "      <td>102</td>\n",
       "      <td>13950.0</td>\n",
       "    </tr>\n",
       "    <tr>\n",
       "      <th>4</th>\n",
       "      <td>audi</td>\n",
       "      <td>gas</td>\n",
       "      <td>std</td>\n",
       "      <td>sedan</td>\n",
       "      <td>4wd</td>\n",
       "      <td>99.4</td>\n",
       "      <td>176.6</td>\n",
       "      <td>66.4</td>\n",
       "      <td>2824</td>\n",
       "      <td>ohc</td>\n",
       "      <td>five</td>\n",
       "      <td>136</td>\n",
       "      <td>3.19</td>\n",
       "      <td>115</td>\n",
       "      <td>17450.0</td>\n",
       "    </tr>\n",
       "  </tbody>\n",
       "</table>\n",
       "</div>"
      ],
      "text/plain": [
       "       company fueltype aspiration      carbody drivewheel  wheelbase  \\\n",
       "0  alfa-romero      gas        std  convertible        rwd       88.6   \n",
       "1  alfa-romero      gas        std  convertible        rwd       88.6   \n",
       "2  alfa-romero      gas        std    hatchback        rwd       94.5   \n",
       "3         audi      gas        std        sedan        fwd       99.8   \n",
       "4         audi      gas        std        sedan        4wd       99.4   \n",
       "\n",
       "   carlength  carwidth  curbweight enginetype cylindernumber  enginesize  \\\n",
       "0      168.8      64.1        2548       dohc           four         130   \n",
       "1      168.8      64.1        2548       dohc           four         130   \n",
       "2      171.2      65.5        2823       ohcv            six         152   \n",
       "3      176.6      66.2        2337        ohc           four         109   \n",
       "4      176.6      66.4        2824        ohc           five         136   \n",
       "\n",
       "   boreratio  horsepower    price  \n",
       "0       3.47         111  13495.0  \n",
       "1       3.47         111  16500.0  \n",
       "2       2.68         154  16500.0  \n",
       "3       3.19         102  13950.0  \n",
       "4       3.19         115  17450.0  "
      ]
     },
     "execution_count": 34,
     "metadata": {},
     "output_type": "execute_result"
    }
   ],
   "source": [
    "cars.head()"
   ]
  },
  {
   "cell_type": "code",
   "execution_count": null,
   "id": "d207a68a-ed43-4934-a999-e447516544cc",
   "metadata": {},
   "outputs": [],
   "source": []
  },
  {
   "cell_type": "code",
   "execution_count": null,
   "id": "e24006e9-b019-461a-a060-d9f9f06f8f53",
   "metadata": {},
   "outputs": [],
   "source": [
    "линейная регрессия в python не справляется с категориальными\n",
    "переменными (типом object в pandas), поэтому давайте применим pd.get_dummies()."
   ]
  },
  {
   "cell_type": "code",
   "execution_count": 37,
   "id": "b589444e-f156-45fa-8511-f0d6aff2946f",
   "metadata": {},
   "outputs": [],
   "source": [
    "df_dummy = pd.get_dummies(data=cars[['company', 'fueltype', 'aspiration', 'carbody', 'drivewheel', 'enginetype', 'cylindernumber']], drop_first=True)"
   ]
  },
  {
   "cell_type": "code",
   "execution_count": 38,
   "id": "4814a7a1-5063-45da-92de-ad1ef3a1062d",
   "metadata": {},
   "outputs": [],
   "source": [
    "cars_lr = pd.concat([cars.drop(['company', 'fueltype', 'aspiration', 'carbody', 'drivewheel', 'enginetype', 'cylindernumber'], axis='columns'), \n",
    "                     df_dummy], axis=1)"
   ]
  },
  {
   "cell_type": "code",
   "execution_count": 39,
   "id": "1837fe78-4d98-4916-9963-0aa20b41e736",
   "metadata": {},
   "outputs": [
    {
     "data": {
      "text/html": [
       "<div>\n",
       "<style scoped>\n",
       "    .dataframe tbody tr th:only-of-type {\n",
       "        vertical-align: middle;\n",
       "    }\n",
       "\n",
       "    .dataframe tbody tr th {\n",
       "        vertical-align: top;\n",
       "    }\n",
       "\n",
       "    .dataframe thead th {\n",
       "        text-align: right;\n",
       "    }\n",
       "</style>\n",
       "<table border=\"1\" class=\"dataframe\">\n",
       "  <thead>\n",
       "    <tr style=\"text-align: right;\">\n",
       "      <th></th>\n",
       "      <th>wheelbase</th>\n",
       "      <th>carlength</th>\n",
       "      <th>carwidth</th>\n",
       "      <th>curbweight</th>\n",
       "      <th>enginesize</th>\n",
       "      <th>boreratio</th>\n",
       "      <th>horsepower</th>\n",
       "      <th>price</th>\n",
       "      <th>company_audi</th>\n",
       "      <th>company_bmw</th>\n",
       "      <th>...</th>\n",
       "      <th>enginetype_ohc</th>\n",
       "      <th>enginetype_ohcf</th>\n",
       "      <th>enginetype_ohcv</th>\n",
       "      <th>enginetype_rotor</th>\n",
       "      <th>cylindernumber_five</th>\n",
       "      <th>cylindernumber_four</th>\n",
       "      <th>cylindernumber_six</th>\n",
       "      <th>cylindernumber_three</th>\n",
       "      <th>cylindernumber_twelve</th>\n",
       "      <th>cylindernumber_two</th>\n",
       "    </tr>\n",
       "  </thead>\n",
       "  <tbody>\n",
       "    <tr>\n",
       "      <th>0</th>\n",
       "      <td>88.6</td>\n",
       "      <td>168.8</td>\n",
       "      <td>64.1</td>\n",
       "      <td>2548</td>\n",
       "      <td>130</td>\n",
       "      <td>3.47</td>\n",
       "      <td>111</td>\n",
       "      <td>13495.0</td>\n",
       "      <td>False</td>\n",
       "      <td>False</td>\n",
       "      <td>...</td>\n",
       "      <td>False</td>\n",
       "      <td>False</td>\n",
       "      <td>False</td>\n",
       "      <td>False</td>\n",
       "      <td>False</td>\n",
       "      <td>True</td>\n",
       "      <td>False</td>\n",
       "      <td>False</td>\n",
       "      <td>False</td>\n",
       "      <td>False</td>\n",
       "    </tr>\n",
       "    <tr>\n",
       "      <th>1</th>\n",
       "      <td>88.6</td>\n",
       "      <td>168.8</td>\n",
       "      <td>64.1</td>\n",
       "      <td>2548</td>\n",
       "      <td>130</td>\n",
       "      <td>3.47</td>\n",
       "      <td>111</td>\n",
       "      <td>16500.0</td>\n",
       "      <td>False</td>\n",
       "      <td>False</td>\n",
       "      <td>...</td>\n",
       "      <td>False</td>\n",
       "      <td>False</td>\n",
       "      <td>False</td>\n",
       "      <td>False</td>\n",
       "      <td>False</td>\n",
       "      <td>True</td>\n",
       "      <td>False</td>\n",
       "      <td>False</td>\n",
       "      <td>False</td>\n",
       "      <td>False</td>\n",
       "    </tr>\n",
       "    <tr>\n",
       "      <th>2</th>\n",
       "      <td>94.5</td>\n",
       "      <td>171.2</td>\n",
       "      <td>65.5</td>\n",
       "      <td>2823</td>\n",
       "      <td>152</td>\n",
       "      <td>2.68</td>\n",
       "      <td>154</td>\n",
       "      <td>16500.0</td>\n",
       "      <td>False</td>\n",
       "      <td>False</td>\n",
       "      <td>...</td>\n",
       "      <td>False</td>\n",
       "      <td>False</td>\n",
       "      <td>True</td>\n",
       "      <td>False</td>\n",
       "      <td>False</td>\n",
       "      <td>False</td>\n",
       "      <td>True</td>\n",
       "      <td>False</td>\n",
       "      <td>False</td>\n",
       "      <td>False</td>\n",
       "    </tr>\n",
       "    <tr>\n",
       "      <th>3</th>\n",
       "      <td>99.8</td>\n",
       "      <td>176.6</td>\n",
       "      <td>66.2</td>\n",
       "      <td>2337</td>\n",
       "      <td>109</td>\n",
       "      <td>3.19</td>\n",
       "      <td>102</td>\n",
       "      <td>13950.0</td>\n",
       "      <td>True</td>\n",
       "      <td>False</td>\n",
       "      <td>...</td>\n",
       "      <td>True</td>\n",
       "      <td>False</td>\n",
       "      <td>False</td>\n",
       "      <td>False</td>\n",
       "      <td>False</td>\n",
       "      <td>True</td>\n",
       "      <td>False</td>\n",
       "      <td>False</td>\n",
       "      <td>False</td>\n",
       "      <td>False</td>\n",
       "    </tr>\n",
       "    <tr>\n",
       "      <th>4</th>\n",
       "      <td>99.4</td>\n",
       "      <td>176.6</td>\n",
       "      <td>66.4</td>\n",
       "      <td>2824</td>\n",
       "      <td>136</td>\n",
       "      <td>3.19</td>\n",
       "      <td>115</td>\n",
       "      <td>17450.0</td>\n",
       "      <td>True</td>\n",
       "      <td>False</td>\n",
       "      <td>...</td>\n",
       "      <td>True</td>\n",
       "      <td>False</td>\n",
       "      <td>False</td>\n",
       "      <td>False</td>\n",
       "      <td>True</td>\n",
       "      <td>False</td>\n",
       "      <td>False</td>\n",
       "      <td>False</td>\n",
       "      <td>False</td>\n",
       "      <td>False</td>\n",
       "    </tr>\n",
       "    <tr>\n",
       "      <th>...</th>\n",
       "      <td>...</td>\n",
       "      <td>...</td>\n",
       "      <td>...</td>\n",
       "      <td>...</td>\n",
       "      <td>...</td>\n",
       "      <td>...</td>\n",
       "      <td>...</td>\n",
       "      <td>...</td>\n",
       "      <td>...</td>\n",
       "      <td>...</td>\n",
       "      <td>...</td>\n",
       "      <td>...</td>\n",
       "      <td>...</td>\n",
       "      <td>...</td>\n",
       "      <td>...</td>\n",
       "      <td>...</td>\n",
       "      <td>...</td>\n",
       "      <td>...</td>\n",
       "      <td>...</td>\n",
       "      <td>...</td>\n",
       "      <td>...</td>\n",
       "    </tr>\n",
       "    <tr>\n",
       "      <th>200</th>\n",
       "      <td>109.1</td>\n",
       "      <td>188.8</td>\n",
       "      <td>68.9</td>\n",
       "      <td>2952</td>\n",
       "      <td>141</td>\n",
       "      <td>3.78</td>\n",
       "      <td>114</td>\n",
       "      <td>16845.0</td>\n",
       "      <td>False</td>\n",
       "      <td>False</td>\n",
       "      <td>...</td>\n",
       "      <td>True</td>\n",
       "      <td>False</td>\n",
       "      <td>False</td>\n",
       "      <td>False</td>\n",
       "      <td>False</td>\n",
       "      <td>True</td>\n",
       "      <td>False</td>\n",
       "      <td>False</td>\n",
       "      <td>False</td>\n",
       "      <td>False</td>\n",
       "    </tr>\n",
       "    <tr>\n",
       "      <th>201</th>\n",
       "      <td>109.1</td>\n",
       "      <td>188.8</td>\n",
       "      <td>68.8</td>\n",
       "      <td>3049</td>\n",
       "      <td>141</td>\n",
       "      <td>3.78</td>\n",
       "      <td>160</td>\n",
       "      <td>19045.0</td>\n",
       "      <td>False</td>\n",
       "      <td>False</td>\n",
       "      <td>...</td>\n",
       "      <td>True</td>\n",
       "      <td>False</td>\n",
       "      <td>False</td>\n",
       "      <td>False</td>\n",
       "      <td>False</td>\n",
       "      <td>True</td>\n",
       "      <td>False</td>\n",
       "      <td>False</td>\n",
       "      <td>False</td>\n",
       "      <td>False</td>\n",
       "    </tr>\n",
       "    <tr>\n",
       "      <th>202</th>\n",
       "      <td>109.1</td>\n",
       "      <td>188.8</td>\n",
       "      <td>68.9</td>\n",
       "      <td>3012</td>\n",
       "      <td>173</td>\n",
       "      <td>3.58</td>\n",
       "      <td>134</td>\n",
       "      <td>21485.0</td>\n",
       "      <td>False</td>\n",
       "      <td>False</td>\n",
       "      <td>...</td>\n",
       "      <td>False</td>\n",
       "      <td>False</td>\n",
       "      <td>True</td>\n",
       "      <td>False</td>\n",
       "      <td>False</td>\n",
       "      <td>False</td>\n",
       "      <td>True</td>\n",
       "      <td>False</td>\n",
       "      <td>False</td>\n",
       "      <td>False</td>\n",
       "    </tr>\n",
       "    <tr>\n",
       "      <th>203</th>\n",
       "      <td>109.1</td>\n",
       "      <td>188.8</td>\n",
       "      <td>68.9</td>\n",
       "      <td>3217</td>\n",
       "      <td>145</td>\n",
       "      <td>3.01</td>\n",
       "      <td>106</td>\n",
       "      <td>22470.0</td>\n",
       "      <td>False</td>\n",
       "      <td>False</td>\n",
       "      <td>...</td>\n",
       "      <td>True</td>\n",
       "      <td>False</td>\n",
       "      <td>False</td>\n",
       "      <td>False</td>\n",
       "      <td>False</td>\n",
       "      <td>False</td>\n",
       "      <td>True</td>\n",
       "      <td>False</td>\n",
       "      <td>False</td>\n",
       "      <td>False</td>\n",
       "    </tr>\n",
       "    <tr>\n",
       "      <th>204</th>\n",
       "      <td>109.1</td>\n",
       "      <td>188.8</td>\n",
       "      <td>68.9</td>\n",
       "      <td>3062</td>\n",
       "      <td>141</td>\n",
       "      <td>3.78</td>\n",
       "      <td>114</td>\n",
       "      <td>22625.0</td>\n",
       "      <td>False</td>\n",
       "      <td>False</td>\n",
       "      <td>...</td>\n",
       "      <td>True</td>\n",
       "      <td>False</td>\n",
       "      <td>False</td>\n",
       "      <td>False</td>\n",
       "      <td>False</td>\n",
       "      <td>True</td>\n",
       "      <td>False</td>\n",
       "      <td>False</td>\n",
       "      <td>False</td>\n",
       "      <td>False</td>\n",
       "    </tr>\n",
       "  </tbody>\n",
       "</table>\n",
       "<p>205 rows × 49 columns</p>\n",
       "</div>"
      ],
      "text/plain": [
       "     wheelbase  carlength  carwidth  curbweight  enginesize  boreratio  \\\n",
       "0         88.6      168.8      64.1        2548         130       3.47   \n",
       "1         88.6      168.8      64.1        2548         130       3.47   \n",
       "2         94.5      171.2      65.5        2823         152       2.68   \n",
       "3         99.8      176.6      66.2        2337         109       3.19   \n",
       "4         99.4      176.6      66.4        2824         136       3.19   \n",
       "..         ...        ...       ...         ...         ...        ...   \n",
       "200      109.1      188.8      68.9        2952         141       3.78   \n",
       "201      109.1      188.8      68.8        3049         141       3.78   \n",
       "202      109.1      188.8      68.9        3012         173       3.58   \n",
       "203      109.1      188.8      68.9        3217         145       3.01   \n",
       "204      109.1      188.8      68.9        3062         141       3.78   \n",
       "\n",
       "     horsepower    price  company_audi  company_bmw  ...  enginetype_ohc  \\\n",
       "0           111  13495.0         False        False  ...           False   \n",
       "1           111  16500.0         False        False  ...           False   \n",
       "2           154  16500.0         False        False  ...           False   \n",
       "3           102  13950.0          True        False  ...            True   \n",
       "4           115  17450.0          True        False  ...            True   \n",
       "..          ...      ...           ...          ...  ...             ...   \n",
       "200         114  16845.0         False        False  ...            True   \n",
       "201         160  19045.0         False        False  ...            True   \n",
       "202         134  21485.0         False        False  ...           False   \n",
       "203         106  22470.0         False        False  ...            True   \n",
       "204         114  22625.0         False        False  ...            True   \n",
       "\n",
       "     enginetype_ohcf  enginetype_ohcv  enginetype_rotor  cylindernumber_five  \\\n",
       "0              False            False             False                False   \n",
       "1              False            False             False                False   \n",
       "2              False             True             False                False   \n",
       "3              False            False             False                False   \n",
       "4              False            False             False                 True   \n",
       "..               ...              ...               ...                  ...   \n",
       "200            False            False             False                False   \n",
       "201            False            False             False                False   \n",
       "202            False             True             False                False   \n",
       "203            False            False             False                False   \n",
       "204            False            False             False                False   \n",
       "\n",
       "     cylindernumber_four  cylindernumber_six  cylindernumber_three  \\\n",
       "0                   True               False                 False   \n",
       "1                   True               False                 False   \n",
       "2                  False                True                 False   \n",
       "3                   True               False                 False   \n",
       "4                  False               False                 False   \n",
       "..                   ...                 ...                   ...   \n",
       "200                 True               False                 False   \n",
       "201                 True               False                 False   \n",
       "202                False                True                 False   \n",
       "203                False                True                 False   \n",
       "204                 True               False                 False   \n",
       "\n",
       "     cylindernumber_twelve  cylindernumber_two  \n",
       "0                    False               False  \n",
       "1                    False               False  \n",
       "2                    False               False  \n",
       "3                    False               False  \n",
       "4                    False               False  \n",
       "..                     ...                 ...  \n",
       "200                  False               False  \n",
       "201                  False               False  \n",
       "202                  False               False  \n",
       "203                  False               False  \n",
       "204                  False               False  \n",
       "\n",
       "[205 rows x 49 columns]"
      ]
     },
     "execution_count": 39,
     "metadata": {},
     "output_type": "execute_result"
    }
   ],
   "source": [
    "cars_lr"
   ]
  },
  {
   "cell_type": "code",
   "execution_count": null,
   "id": "705763fb-3a05-4b47-8a9c-669894e569d4",
   "metadata": {},
   "outputs": [],
   "source": []
  },
  {
   "cell_type": "code",
   "execution_count": null,
   "id": "93e97266-61ab-4cc5-993e-07336a87fdf8",
   "metadata": {},
   "outputs": [],
   "source": [
    "Построим модель с ЗП price и НП horsepower"
   ]
  },
  {
   "cell_type": "code",
   "execution_count": 43,
   "id": "15def9d6-080a-4a58-a317-a7e68d559fb2",
   "metadata": {},
   "outputs": [],
   "source": [
    "from scipy import stats\n",
    "import statsmodels.api as sm\n",
    "import statsmodels.formula.api as smf"
   ]
  },
  {
   "cell_type": "code",
   "execution_count": 41,
   "id": "f9fc09b4-cd59-4720-a6d4-2520ffbd6355",
   "metadata": {},
   "outputs": [
    {
     "data": {
      "text/plain": [
       "LinregressResult(slope=163.26306096964794, intercept=-3721.76149432276, rvalue=0.8081388225362214, pvalue=1.4834365732942122e-48, stderr=8.35147880825741, intercept_stderr=929.8492418134907)"
      ]
     },
     "execution_count": 41,
     "metadata": {},
     "output_type": "execute_result"
    }
   ],
   "source": [
    "stats.linregress(cars_lr.horsepower, cars_lr.price)"
   ]
  },
  {
   "cell_type": "code",
   "execution_count": null,
   "id": "4a9fd458-9e63-4a30-8e3f-eaab7a58a9c1",
   "metadata": {},
   "outputs": [],
   "source": [
    "или"
   ]
  },
  {
   "cell_type": "code",
   "execution_count": 44,
   "id": "03e08894-3bef-4e7e-86fc-5579ac190590",
   "metadata": {},
   "outputs": [
    {
     "name": "stdout",
     "output_type": "stream",
     "text": [
      "                            OLS Regression Results                            \n",
      "==============================================================================\n",
      "Dep. Variable:                  price   R-squared:                       0.653\n",
      "Model:                            OLS   Adj. R-squared:                  0.651\n",
      "Method:                 Least Squares   F-statistic:                     382.2\n",
      "Date:                Sun, 15 Sep 2024   Prob (F-statistic):           1.48e-48\n",
      "Time:                        20:44:45   Log-Likelihood:                -2024.0\n",
      "No. Observations:                 205   AIC:                             4052.\n",
      "Df Residuals:                     203   BIC:                             4059.\n",
      "Df Model:                           1                                         \n",
      "Covariance Type:            nonrobust                                         \n",
      "==============================================================================\n",
      "                 coef    std err          t      P>|t|      [0.025      0.975]\n",
      "------------------------------------------------------------------------------\n",
      "Intercept  -3721.7615    929.849     -4.003      0.000   -5555.163   -1888.360\n",
      "horsepower   163.2631      8.351     19.549      0.000     146.796     179.730\n",
      "==============================================================================\n",
      "Omnibus:                       47.741   Durbin-Watson:                   0.792\n",
      "Prob(Omnibus):                  0.000   Jarque-Bera (JB):               91.702\n",
      "Skew:                           1.141   Prob(JB):                     1.22e-20\n",
      "Kurtosis:                       5.352   Cond. No.                         314.\n",
      "==============================================================================\n",
      "\n",
      "Notes:\n",
      "[1] Standard Errors assume that the covariance matrix of the errors is correctly specified.\n"
     ]
    }
   ],
   "source": [
    "results = smf.ols('price ~ horsepower', cars_lr).fit()\n",
    "print(results.summary())"
   ]
  },
  {
   "cell_type": "code",
   "execution_count": null,
   "id": "1cf9eda2-d560-4239-8fe3-62c666fd5987",
   "metadata": {},
   "outputs": [],
   "source": [
    "нарисуем график"
   ]
  },
  {
   "cell_type": "code",
   "execution_count": 47,
   "id": "c97efd35-792c-406e-9030-971cbab79666",
   "metadata": {},
   "outputs": [
    {
     "data": {
      "text/plain": [
       "<Axes: xlabel='horsepower', ylabel='price'>"
      ]
     },
     "execution_count": 47,
     "metadata": {},
     "output_type": "execute_result"
    },
    {
     "data": {
      "image/png": "[encoded data removed]",
      "text/plain": [
       "<Figure size 2000x1700 with 1 Axes>"
      ]
     },
     "metadata": {},
     "output_type": "display_data"
    }
   ],
   "source": [
    "sns.regplot(x='horsepower', y='price', data=cars_lr)"
   ]
  },
  {
   "cell_type": "code",
   "execution_count": null,
   "id": "93590d47-bda8-4bc9-993d-06cb269adec0",
   "metadata": {},
   "outputs": [],
   "source": [
    "Вывод: R-квадрат: 0.653. Это означает, что 65.3% вариаций в цене объясняются вариациями мощности. Это достаточно хорошее качество модели.\n",
    "Модель регрессии показывает значимую положительную зависимость между мощностью и ценой автомобиля. \n",
    "При этом мощность объясняет около 65% изменчивости цены, \n",
    "однако есть признаки проблем с автокорреляцией и ненормальностью распределения остатков, \n",
    "что может свидетельствовать о возможных улучшениях модели."
   ]
  }
 ],
 "metadata": {
  "kernelspec": {
   "display_name": "Python 3 (ipykernel)",
   "language": "python",
   "name": "python3"
  },
  "language_info": {
   "codemirror_mode": {
    "name": "ipython",
    "version": 3
   },
   "file_extension": ".py",
   "mimetype": "text/x-python",
   "name": "python",
   "nbconvert_exporter": "python",
   "pygments_lexer": "ipython3",
   "version": "3.11.5"
  }
 },
 "nbformat": 4,
 "nbformat_minor": 5
}
