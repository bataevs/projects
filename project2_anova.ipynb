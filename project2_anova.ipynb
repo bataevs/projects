{
 "cells": [
  {
   "cell_type": "code",
   "execution_count": null,
   "id": "d9c6ff86-7374-41be-8ea6-b32193d6c8ed",
   "metadata": {},
   "outputs": [],
   "source": [
    "Вы работаете в приложении по доставке готовых продуктов. К вам пришел коллега с результатами двух тестов:\n",
    "· В первом тестировали разрешение фотографий блюд в приложении: пользователям показывались либо прямоугольные, либо новые квадратные\n",
    "· Во втором: была обновлена кнопка заказа, и часть юзеров видела старый вариант, \n",
    "а часть – новый. Коллега пришел к вам с просьбой: он посмотрел на графики и предположил, что среди групп могут встретиться различия. \n",
    "Ваша задача – помочь ему проверить гипотезы, сделать соответствующие выводы на основе статистических тестов и принять решения."
   ]
  },
  {
   "cell_type": "code",
   "execution_count": null,
   "id": "954b210b-393e-4c0f-a938-1b8bc6fbc05b",
   "metadata": {},
   "outputs": [],
   "source": [
    "5_task_1:\n",
    "· id – id клиента в эксперименте\n",
    "· group – в каком разрешении показывались картинки (A – прямоугольные 16:9, B – квадратные, C – прямоугольные 12:4)\n",
    "· events – сколько блюд суммарно было заказано за период"
   ]
  },
  {
   "cell_type": "code",
   "execution_count": null,
   "id": "eafe5191-e141-4aef-b076-254b52905b5a",
   "metadata": {},
   "outputs": [],
   "source": [
    "5_task_2:\n",
    "· id – id клиента в эксперименте\n",
    "· segment – сегмент (high/low)\n",
    "· group – вид кнопки (control – старая версия, test – новая версия)\n",
    "· events – сколько блюд суммарно было заказано за период"
   ]
  },
  {
   "cell_type": "code",
   "execution_count": null,
   "id": "9a3b537e-45e2-4204-bd9c-ffd218e12698",
   "metadata": {},
   "outputs": [],
   "source": []
  },
  {
   "cell_type": "code",
   "execution_count": 59,
   "id": "7ba78a87-8695-4e89-a37c-2d18d1ce0369",
   "metadata": {},
   "outputs": [],
   "source": [
    "# Импортируем библиотеки\n",
    "import pandas as pd\n",
    "import numpy as np\n",
    "import seaborn as sns\n",
    "import matplotlib.pyplot as plt\n",
    "from scipy import stats\n",
    "import statsmodels.formula.api as smf\n",
    "import pingouin as pg\n",
    "from statsmodels.stats.multicomp import (pairwise_tukeyhsd, MultiComparison)\n",
    "from statsmodels.stats.anova import anova_lm\n",
    "sns.set(rc={'figure.figsize':(20,7)}, style='whitegrid')"
   ]
  },
  {
   "cell_type": "code",
   "execution_count": 2,
   "id": "69ddeee0-a846-42bb-afff-0bdc56ae87d4",
   "metadata": {},
   "outputs": [],
   "source": [
    "df1 = pd.read_csv('5_task_1.csv')\n",
    "df2 = pd.read_csv('5_task_2.csv')"
   ]
  },
  {
   "cell_type": "code",
   "execution_count": null,
   "id": "3a273716-80c0-4f69-a17c-0806ef9379db",
   "metadata": {},
   "outputs": [],
   "source": []
  },
  {
   "cell_type": "code",
   "execution_count": null,
   "id": "85fe26ca-9f51-4033-ad8f-dd2debe0707b",
   "metadata": {},
   "outputs": [],
   "source": [
    "В первом варианте нам подходит дисперсионный анализ, так как признаков, по которым у нас происходит сравнение, больше двух."
   ]
  },
  {
   "cell_type": "code",
   "execution_count": 8,
   "id": "76388245-1431-4610-973f-00315583d37a",
   "metadata": {},
   "outputs": [],
   "source": [
    "A = df1.query('group == \"A\"').events\n",
    "B = df1.query('group == \"B\"').events\n",
    "C = df1.query('group == \"C\"').events"
   ]
  },
  {
   "cell_type": "code",
   "execution_count": 9,
   "id": "23c32fdc-27f3-4dd7-9c47-8bd595dd6e36",
   "metadata": {},
   "outputs": [
    {
     "data": {
      "text/plain": [
       "LeveneResult(statistic=2.2622596339318037, pvalue=0.1041327199523974)"
      ]
     },
     "execution_count": 9,
     "metadata": {},
     "output_type": "execute_result"
    }
   ],
   "source": [
    "# С помощью теста Левена проверяем, равны ли дисперсии\n",
    "stats.levene(A, B, C)"
   ]
  },
  {
   "cell_type": "code",
   "execution_count": null,
   "id": "d0e809e0-b3e1-40df-b803-a4398dd2e284",
   "metadata": {},
   "outputs": [],
   "source": [
    "P-value > 0,05, значит у нас нет оснований отклонять нулевую гипотезу, что дисперсии равны"
   ]
  },
  {
   "cell_type": "code",
   "execution_count": null,
   "id": "45e3143a-272c-4247-ae6b-8ff6f1380e84",
   "metadata": {},
   "outputs": [],
   "source": []
  },
  {
   "cell_type": "code",
   "execution_count": 11,
   "id": "18e425b5-7e5c-40d8-b4ef-197fec732831",
   "metadata": {},
   "outputs": [
    {
     "data": {
      "text/plain": [
       "ShapiroResult(statistic=0.9981869804681871, pvalue=0.36995625365274193)"
      ]
     },
     "execution_count": 11,
     "metadata": {},
     "output_type": "execute_result"
    }
   ],
   "source": [
    "# Применяем тест Шапиро-Уилка: нормально ли распределены?\n",
    "stats.shapiro(A.sample(1000, random_state=20))"
   ]
  },
  {
   "cell_type": "code",
   "execution_count": 14,
   "id": "2b85c348-fc1b-4529-8b2f-5ff2fb7a26c4",
   "metadata": {},
   "outputs": [
    {
     "data": {
      "text/plain": [
       "ShapiroResult(statistic=0.9974183390550215, pvalue=0.11367127742114164)"
      ]
     },
     "execution_count": 14,
     "metadata": {},
     "output_type": "execute_result"
    }
   ],
   "source": [
    "stats.shapiro(B.sample(1000, random_state=20))"
   ]
  },
  {
   "cell_type": "code",
   "execution_count": 13,
   "id": "bf5d8e1f-86b2-48f1-a8a7-4e6b3556d923",
   "metadata": {},
   "outputs": [
    {
     "data": {
      "text/plain": [
       "ShapiroResult(statistic=0.998320032148749, pvalue=0.44305862450102457)"
      ]
     },
     "execution_count": 13,
     "metadata": {},
     "output_type": "execute_result"
    }
   ],
   "source": [
    "stats.shapiro(C.sample(1000, random_state=20))"
   ]
  },
  {
   "cell_type": "code",
   "execution_count": null,
   "id": "bcada4f4-d1bc-4e35-8e6f-202350840f17",
   "metadata": {},
   "outputs": [],
   "source": [
    "Значения p-value для трех групп распределено нормально, так мы не отклоняем нулевую гипотезу.\n",
    "Для больших значений тест Шапиро-Уилка работает некорректно, поэтому мы берем выборку"
   ]
  },
  {
   "cell_type": "code",
   "execution_count": null,
   "id": "c7c92804-778b-47b9-9356-dbbb1b7053e0",
   "metadata": {},
   "outputs": [],
   "source": []
  },
  {
   "cell_type": "code",
   "execution_count": null,
   "id": "87ad8582-2140-4fc5-9c5c-16a199ddb521",
   "metadata": {},
   "outputs": [],
   "source": [
    "Требования выполнены для теста ANOVA"
   ]
  },
  {
   "cell_type": "code",
   "execution_count": 15,
   "id": "73a0e507-fec9-4c0f-9071-55e6186a78ff",
   "metadata": {},
   "outputs": [
    {
     "data": {
      "text/plain": [
       "F_onewayResult(statistic=2886.166657438961, pvalue=0.0)"
      ]
     },
     "execution_count": 15,
     "metadata": {},
     "output_type": "execute_result"
    }
   ],
   "source": [
    "stats.f_oneway(A,B,C)"
   ]
  },
  {
   "cell_type": "code",
   "execution_count": null,
   "id": "a376bcea-07ce-4e83-97d0-a2fd63a924a6",
   "metadata": {},
   "outputs": [],
   "source": [
    "или"
   ]
  },
  {
   "cell_type": "code",
   "execution_count": 22,
   "id": "8049f4ee-179e-427b-a78d-2d847061253b",
   "metadata": {},
   "outputs": [
    {
     "data": {
      "text/html": [
       "<div>\n",
       "<style scoped>\n",
       "    .dataframe tbody tr th:only-of-type {\n",
       "        vertical-align: middle;\n",
       "    }\n",
       "\n",
       "    .dataframe tbody tr th {\n",
       "        vertical-align: top;\n",
       "    }\n",
       "\n",
       "    .dataframe thead th {\n",
       "        text-align: right;\n",
       "    }\n",
       "</style>\n",
       "<table border=\"1\" class=\"dataframe\">\n",
       "  <thead>\n",
       "    <tr style=\"text-align: right;\">\n",
       "      <th></th>\n",
       "      <th>Source</th>\n",
       "      <th>ddof1</th>\n",
       "      <th>ddof2</th>\n",
       "      <th>F</th>\n",
       "      <th>p-unc</th>\n",
       "      <th>np2</th>\n",
       "    </tr>\n",
       "  </thead>\n",
       "  <tbody>\n",
       "    <tr>\n",
       "      <th>0</th>\n",
       "      <td>group</td>\n",
       "      <td>2</td>\n",
       "      <td>29997</td>\n",
       "      <td>2886.166657</td>\n",
       "      <td>0.0</td>\n",
       "      <td>0.161377</td>\n",
       "    </tr>\n",
       "  </tbody>\n",
       "</table>\n",
       "</div>"
      ],
      "text/plain": [
       "  Source  ddof1  ddof2            F  p-unc       np2\n",
       "0  group      2  29997  2886.166657    0.0  0.161377"
      ]
     },
     "execution_count": 22,
     "metadata": {},
     "output_type": "execute_result"
    }
   ],
   "source": [
    "pg.anova(data=df1, dv='events', between='group')"
   ]
  },
  {
   "cell_type": "code",
   "execution_count": null,
   "id": "361d94bd-a173-4f30-9090-ac62a96b20c5",
   "metadata": {},
   "outputs": [],
   "source": [
    "Так как p-value меньше 0.05, то мы отклоняем нулевую гипотезу. Значит есть различия в наших группах"
   ]
  },
  {
   "cell_type": "code",
   "execution_count": null,
   "id": "70204dd3-769d-4062-9519-b86ac902cbd9",
   "metadata": {},
   "outputs": [],
   "source": []
  },
  {
   "cell_type": "code",
   "execution_count": null,
   "id": "20e8e807-5d00-4c81-bad1-90800746d481",
   "metadata": {},
   "outputs": [],
   "source": [
    "Для нахождения статистически значимых различий у наших групп воспользуемся критерием Тьюки"
   ]
  },
  {
   "cell_type": "code",
   "execution_count": 25,
   "id": "67525fd0-6334-43a0-a65a-ecf2fa707ddd",
   "metadata": {},
   "outputs": [
    {
     "name": "stdout",
     "output_type": "stream",
     "text": [
      "Multiple Comparison of Means - Tukey HSD, FWER=0.05 \n",
      "====================================================\n",
      "group1 group2 meandiff p-adj  lower    upper  reject\n",
      "----------------------------------------------------\n",
      "     A      B    8.034   0.0   7.7038  8.3642   True\n",
      "     A      C  -2.1093   0.0  -2.4395 -1.7791   True\n",
      "     B      C -10.1433   0.0 -10.4735 -9.8131   True\n",
      "----------------------------------------------------\n"
     ]
    }
   ],
   "source": [
    "print(pairwise_tukeyhsd(df1.events, df1.group))"
   ]
  },
  {
   "cell_type": "code",
   "execution_count": null,
   "id": "419f6d66-b326-41eb-b400-7adcc118f0a3",
   "metadata": {},
   "outputs": [],
   "source": [
    "или"
   ]
  },
  {
   "cell_type": "code",
   "execution_count": 27,
   "id": "a954bac7-5724-451b-aff0-1295965e2164",
   "metadata": {},
   "outputs": [
    {
     "name": "stdout",
     "output_type": "stream",
     "text": [
      "Multiple Comparison of Means - Tukey HSD, FWER=0.05 \n",
      "====================================================\n",
      "group1 group2 meandiff p-adj  lower    upper  reject\n",
      "----------------------------------------------------\n",
      "     A      B    8.034   0.0   7.7038  8.3642   True\n",
      "     A      C  -2.1093   0.0  -2.4395 -1.7791   True\n",
      "     B      C -10.1433   0.0 -10.4735 -9.8131   True\n",
      "----------------------------------------------------\n"
     ]
    }
   ],
   "source": [
    "MultiComp = MultiComparison(df1.events, df1.group)\n",
    "print(MultiComp.tukeyhsd().summary())"
   ]
  },
  {
   "cell_type": "code",
   "execution_count": null,
   "id": "f4540248-68c8-4f90-90a5-1eaeddfff3ca",
   "metadata": {},
   "outputs": [],
   "source": [
    "В проведенных тестах мы можем заметить, что у нас отклоняются нулевые гипотезы, а значит статистически значимые различия\n",
    "есть при каждом сравнении любых двух групп"
   ]
  },
  {
   "cell_type": "code",
   "execution_count": null,
   "id": "d2f93aae-41d1-4554-95a5-88a19796c0bc",
   "metadata": {},
   "outputs": [],
   "source": []
  },
  {
   "cell_type": "code",
   "execution_count": 50,
   "id": "319919be-d6dc-465b-a4a4-4ab4aea47d52",
   "metadata": {},
   "outputs": [
    {
     "name": "stdout",
     "output_type": "stream",
     "text": [
      "Среднее количество заказов для прямоугольной 16:9 картинки - 29.5796\n",
      "Среднее количество заказов для квадратной картинки - 37.6136\n",
      "Среднее количество заказов для прямоугольной картинки 12:4 - 27.4703\n"
     ]
    }
   ],
   "source": [
    "m1 = A.mean()\n",
    "m2 = B.mean()\n",
    "m3 = C.mean()\n",
    "\n",
    "print(f\"Среднее количество заказов для прямоугольной 16:9 картинки - {m1}\")\n",
    "print(f\"Среднее количество заказов для квадратной картинки - {m2}\")\n",
    "print(f\"Среднее количество заказов для прямоугольной картинки 12:4 - {m3}\")"
   ]
  },
  {
   "cell_type": "code",
   "execution_count": null,
   "id": "709ba3b6-5806-4954-b0db-13c5cd56d80a",
   "metadata": {},
   "outputs": [],
   "source": []
  },
  {
   "cell_type": "code",
   "execution_count": null,
   "id": "a2409559-3675-44d3-984b-770c6822ab29",
   "metadata": {},
   "outputs": [],
   "source": [
    "Нарисуем график средних значений для каждой групп"
   ]
  },
  {
   "cell_type": "code",
   "execution_count": 34,
   "id": "55e8f657-2e22-46fe-ad9b-06a186752ae8",
   "metadata": {},
   "outputs": [
    {
     "data": {
      "text/plain": [
       "Text(0, 0.5, 'Количество заказанных блюд')"
      ]
     },
     "execution_count": 34,
     "metadata": {},
     "output_type": "execute_result"
    },
    {
     "data": {
      "image/png": "[encoded data removed]",
      "text/plain": [
       "<Figure size 2000x700 with 1 Axes>"
      ]
     },
     "metadata": {},
     "output_type": "display_data"
    }
   ],
   "source": [
    "sns.pointplot(df1, x='group', y='events', capsize=0.2)\n",
    "plt.title('График зависимости заказанных блюд от разрешения картинки')\n",
    "plt.xlabel('Разрешение картинки')\n",
    "plt.ylabel('Количество заказанных блюд')"
   ]
  },
  {
   "cell_type": "code",
   "execution_count": null,
   "id": "0a42e7c8-3b68-40c4-83bd-df2ea4d2c8df",
   "metadata": {},
   "outputs": [],
   "source": [
    "Вывод: мы выберем квадратные картинки, потому что среднее больше, чем у остальных, и отличается от других качеств картинок"
   ]
  },
  {
   "cell_type": "code",
   "execution_count": null,
   "id": "beda3848-ff62-4e6a-a496-5b1a15f77d78",
   "metadata": {},
   "outputs": [],
   "source": []
  },
  {
   "cell_type": "code",
   "execution_count": null,
   "id": "b32ff36f-43f0-4f1d-8dbc-018d7bb1fa6a",
   "metadata": {},
   "outputs": [],
   "source": [
    "--------------------------------------------------------------------------------------------"
   ]
  },
  {
   "cell_type": "code",
   "execution_count": null,
   "id": "97c437f9-a032-477d-95f9-792e2a95629a",
   "metadata": {},
   "outputs": [],
   "source": [
    "Для второго варината нам следует использовать многофакторный дисперсионный анализ, так как у нас 2 фактора"
   ]
  },
  {
   "cell_type": "code",
   "execution_count": 51,
   "id": "5e9db681-82af-47c0-bce8-2da2e8cc796a",
   "metadata": {},
   "outputs": [
    {
     "data": {
      "text/html": [
       "<div>\n",
       "<style scoped>\n",
       "    .dataframe tbody tr th:only-of-type {\n",
       "        vertical-align: middle;\n",
       "    }\n",
       "\n",
       "    .dataframe tbody tr th {\n",
       "        vertical-align: top;\n",
       "    }\n",
       "\n",
       "    .dataframe thead th {\n",
       "        text-align: right;\n",
       "    }\n",
       "</style>\n",
       "<table border=\"1\" class=\"dataframe\">\n",
       "  <thead>\n",
       "    <tr style=\"text-align: right;\">\n",
       "      <th></th>\n",
       "      <th>id</th>\n",
       "      <th>group</th>\n",
       "      <th>segment</th>\n",
       "      <th>events</th>\n",
       "    </tr>\n",
       "  </thead>\n",
       "  <tbody>\n",
       "    <tr>\n",
       "      <th>0</th>\n",
       "      <td>83440</td>\n",
       "      <td>test</td>\n",
       "      <td>high</td>\n",
       "      <td>78.0</td>\n",
       "    </tr>\n",
       "    <tr>\n",
       "      <th>1</th>\n",
       "      <td>96723</td>\n",
       "      <td>test</td>\n",
       "      <td>high</td>\n",
       "      <td>71.0</td>\n",
       "    </tr>\n",
       "    <tr>\n",
       "      <th>2</th>\n",
       "      <td>68719</td>\n",
       "      <td>test</td>\n",
       "      <td>high</td>\n",
       "      <td>80.0</td>\n",
       "    </tr>\n",
       "    <tr>\n",
       "      <th>3</th>\n",
       "      <td>50399</td>\n",
       "      <td>test</td>\n",
       "      <td>high</td>\n",
       "      <td>80.0</td>\n",
       "    </tr>\n",
       "    <tr>\n",
       "      <th>4</th>\n",
       "      <td>95613</td>\n",
       "      <td>test</td>\n",
       "      <td>high</td>\n",
       "      <td>78.0</td>\n",
       "    </tr>\n",
       "  </tbody>\n",
       "</table>\n",
       "</div>"
      ],
      "text/plain": [
       "      id group segment  events\n",
       "0  83440  test    high    78.0\n",
       "1  96723  test    high    71.0\n",
       "2  68719  test    high    80.0\n",
       "3  50399  test    high    80.0\n",
       "4  95613  test    high    78.0"
      ]
     },
     "execution_count": 51,
     "metadata": {},
     "output_type": "execute_result"
    }
   ],
   "source": [
    "df2.head()"
   ]
  },
  {
   "cell_type": "code",
   "execution_count": 66,
   "id": "7d041a67-b4be-442b-be1a-1b5537c7505b",
   "metadata": {},
   "outputs": [],
   "source": [
    "df2['combination'] = df2.group+' \\ '+df2.segment"
   ]
  },
  {
   "cell_type": "code",
   "execution_count": 67,
   "id": "e1c3b26d-a1f3-43d0-baa0-bf4159a56883",
   "metadata": {},
   "outputs": [
    {
     "data": {
      "text/html": [
       "<div>\n",
       "<style scoped>\n",
       "    .dataframe tbody tr th:only-of-type {\n",
       "        vertical-align: middle;\n",
       "    }\n",
       "\n",
       "    .dataframe tbody tr th {\n",
       "        vertical-align: top;\n",
       "    }\n",
       "\n",
       "    .dataframe thead th {\n",
       "        text-align: right;\n",
       "    }\n",
       "</style>\n",
       "<table border=\"1\" class=\"dataframe\">\n",
       "  <thead>\n",
       "    <tr style=\"text-align: right;\">\n",
       "      <th></th>\n",
       "      <th>id</th>\n",
       "      <th>group</th>\n",
       "      <th>segment</th>\n",
       "      <th>events</th>\n",
       "      <th>combination</th>\n",
       "    </tr>\n",
       "  </thead>\n",
       "  <tbody>\n",
       "    <tr>\n",
       "      <th>0</th>\n",
       "      <td>83440</td>\n",
       "      <td>test</td>\n",
       "      <td>high</td>\n",
       "      <td>78.0</td>\n",
       "      <td>test \\ high</td>\n",
       "    </tr>\n",
       "    <tr>\n",
       "      <th>1</th>\n",
       "      <td>96723</td>\n",
       "      <td>test</td>\n",
       "      <td>high</td>\n",
       "      <td>71.0</td>\n",
       "      <td>test \\ high</td>\n",
       "    </tr>\n",
       "    <tr>\n",
       "      <th>2</th>\n",
       "      <td>68719</td>\n",
       "      <td>test</td>\n",
       "      <td>high</td>\n",
       "      <td>80.0</td>\n",
       "      <td>test \\ high</td>\n",
       "    </tr>\n",
       "    <tr>\n",
       "      <th>3</th>\n",
       "      <td>50399</td>\n",
       "      <td>test</td>\n",
       "      <td>high</td>\n",
       "      <td>80.0</td>\n",
       "      <td>test \\ high</td>\n",
       "    </tr>\n",
       "    <tr>\n",
       "      <th>4</th>\n",
       "      <td>95613</td>\n",
       "      <td>test</td>\n",
       "      <td>high</td>\n",
       "      <td>78.0</td>\n",
       "      <td>test \\ high</td>\n",
       "    </tr>\n",
       "  </tbody>\n",
       "</table>\n",
       "</div>"
      ],
      "text/plain": [
       "      id group segment  events  combination\n",
       "0  83440  test    high    78.0  test \\ high\n",
       "1  96723  test    high    71.0  test \\ high\n",
       "2  68719  test    high    80.0  test \\ high\n",
       "3  50399  test    high    80.0  test \\ high\n",
       "4  95613  test    high    78.0  test \\ high"
      ]
     },
     "execution_count": 67,
     "metadata": {},
     "output_type": "execute_result"
    }
   ],
   "source": [
    "df2.head()"
   ]
  },
  {
   "cell_type": "code",
   "execution_count": 58,
   "id": "cf3fc02a-916f-49b2-bbd3-b02a766cb655",
   "metadata": {},
   "outputs": [
    {
     "data": {
      "text/html": [
       "<div>\n",
       "<style scoped>\n",
       "    .dataframe tbody tr th:only-of-type {\n",
       "        vertical-align: middle;\n",
       "    }\n",
       "\n",
       "    .dataframe tbody tr th {\n",
       "        vertical-align: top;\n",
       "    }\n",
       "\n",
       "    .dataframe thead th {\n",
       "        text-align: right;\n",
       "    }\n",
       "</style>\n",
       "<table border=\"1\" class=\"dataframe\">\n",
       "  <thead>\n",
       "    <tr style=\"text-align: right;\">\n",
       "      <th></th>\n",
       "      <th></th>\n",
       "      <th>count</th>\n",
       "      <th>mean</th>\n",
       "      <th>std</th>\n",
       "      <th>min</th>\n",
       "      <th>25%</th>\n",
       "      <th>50%</th>\n",
       "      <th>75%</th>\n",
       "      <th>max</th>\n",
       "    </tr>\n",
       "    <tr>\n",
       "      <th>group</th>\n",
       "      <th>segment</th>\n",
       "      <th></th>\n",
       "      <th></th>\n",
       "      <th></th>\n",
       "      <th></th>\n",
       "      <th></th>\n",
       "      <th></th>\n",
       "      <th></th>\n",
       "      <th></th>\n",
       "    </tr>\n",
       "  </thead>\n",
       "  <tbody>\n",
       "    <tr>\n",
       "      <th rowspan=\"2\" valign=\"top\">control</th>\n",
       "      <th>high</th>\n",
       "      <td>10000.0</td>\n",
       "      <td>59.97</td>\n",
       "      <td>7.81</td>\n",
       "      <td>31.0</td>\n",
       "      <td>55.0</td>\n",
       "      <td>60.0</td>\n",
       "      <td>65.0</td>\n",
       "      <td>89.0</td>\n",
       "    </tr>\n",
       "    <tr>\n",
       "      <th>low</th>\n",
       "      <td>40000.0</td>\n",
       "      <td>20.03</td>\n",
       "      <td>4.47</td>\n",
       "      <td>4.0</td>\n",
       "      <td>17.0</td>\n",
       "      <td>20.0</td>\n",
       "      <td>23.0</td>\n",
       "      <td>41.0</td>\n",
       "    </tr>\n",
       "    <tr>\n",
       "      <th rowspan=\"2\" valign=\"top\">test</th>\n",
       "      <th>high</th>\n",
       "      <td>10000.0</td>\n",
       "      <td>69.94</td>\n",
       "      <td>8.40</td>\n",
       "      <td>40.0</td>\n",
       "      <td>64.0</td>\n",
       "      <td>70.0</td>\n",
       "      <td>76.0</td>\n",
       "      <td>102.0</td>\n",
       "    </tr>\n",
       "    <tr>\n",
       "      <th>low</th>\n",
       "      <td>40000.0</td>\n",
       "      <td>33.03</td>\n",
       "      <td>5.72</td>\n",
       "      <td>13.0</td>\n",
       "      <td>29.0</td>\n",
       "      <td>33.0</td>\n",
       "      <td>37.0</td>\n",
       "      <td>59.0</td>\n",
       "    </tr>\n",
       "  </tbody>\n",
       "</table>\n",
       "</div>"
      ],
      "text/plain": [
       "                   count   mean   std   min   25%   50%   75%    max\n",
       "group   segment                                                     \n",
       "control high     10000.0  59.97  7.81  31.0  55.0  60.0  65.0   89.0\n",
       "        low      40000.0  20.03  4.47   4.0  17.0  20.0  23.0   41.0\n",
       "test    high     10000.0  69.94  8.40  40.0  64.0  70.0  76.0  102.0\n",
       "        low      40000.0  33.03  5.72  13.0  29.0  33.0  37.0   59.0"
      ]
     },
     "execution_count": 58,
     "metadata": {},
     "output_type": "execute_result"
    }
   ],
   "source": [
    "df2.groupby(['group', 'segment']).events.describe().round(2)"
   ]
  },
  {
   "cell_type": "code",
   "execution_count": null,
   "id": "dbfda76b-ba66-40a5-834d-d5a50ef29a4d",
   "metadata": {},
   "outputs": [],
   "source": []
  },
  {
   "cell_type": "code",
   "execution_count": null,
   "id": "7c558f50-7999-4356-a3d5-ee0a264111c4",
   "metadata": {},
   "outputs": [],
   "source": [
    "Проводим дисперсионный анализ"
   ]
  },
  {
   "cell_type": "code",
   "execution_count": 63,
   "id": "700d49f9-5dc2-4001-bdfe-94a272da27e8",
   "metadata": {},
   "outputs": [
    {
     "name": "stdout",
     "output_type": "stream",
     "text": [
      "                    sum_sq       df          F  PR(>F)\n",
      "group           3837195.41      1.0  112031.86     0.0\n",
      "segment        23624796.65      1.0  689756.38     0.0\n",
      "group:segment     36642.44      1.0    1069.82     0.0\n",
      "Residual        3424955.89  99996.0        NaN     NaN\n"
     ]
    }
   ],
   "source": [
    "formula = 'events ~ group + segment + group:segment'\n",
    "model = smf.ols(formula, df2).fit()\n",
    "aov_table = anova_lm(model, typ = 2)\n",
    "print(np.round(aov_table, 2))"
   ]
  },
  {
   "cell_type": "code",
   "execution_count": null,
   "id": "8519c047-b4a1-4f75-8580-7ddcbb2723bc",
   "metadata": {},
   "outputs": [],
   "source": [
    "или"
   ]
  },
  {
   "cell_type": "code",
   "execution_count": 69,
   "id": "e12bda16-ee62-42bc-a2e7-273dc7e83010",
   "metadata": {},
   "outputs": [
    {
     "data": {
      "text/html": [
       "<div>\n",
       "<style scoped>\n",
       "    .dataframe tbody tr th:only-of-type {\n",
       "        vertical-align: middle;\n",
       "    }\n",
       "\n",
       "    .dataframe tbody tr th {\n",
       "        vertical-align: top;\n",
       "    }\n",
       "\n",
       "    .dataframe thead th {\n",
       "        text-align: right;\n",
       "    }\n",
       "</style>\n",
       "<table border=\"1\" class=\"dataframe\">\n",
       "  <thead>\n",
       "    <tr style=\"text-align: right;\">\n",
       "      <th></th>\n",
       "      <th>Source</th>\n",
       "      <th>SS</th>\n",
       "      <th>DF</th>\n",
       "      <th>MS</th>\n",
       "      <th>F</th>\n",
       "      <th>p-unc</th>\n",
       "      <th>np2</th>\n",
       "    </tr>\n",
       "  </thead>\n",
       "  <tbody>\n",
       "    <tr>\n",
       "      <th>0</th>\n",
       "      <td>group</td>\n",
       "      <td>3.837195e+06</td>\n",
       "      <td>1.0</td>\n",
       "      <td>3.837195e+06</td>\n",
       "      <td>112031.864119</td>\n",
       "      <td>0.000000e+00</td>\n",
       "      <td>0.528383</td>\n",
       "    </tr>\n",
       "    <tr>\n",
       "      <th>1</th>\n",
       "      <td>segment</td>\n",
       "      <td>2.362480e+07</td>\n",
       "      <td>1.0</td>\n",
       "      <td>2.362480e+07</td>\n",
       "      <td>689756.377484</td>\n",
       "      <td>0.000000e+00</td>\n",
       "      <td>0.873383</td>\n",
       "    </tr>\n",
       "    <tr>\n",
       "      <th>2</th>\n",
       "      <td>group * segment</td>\n",
       "      <td>3.664244e+04</td>\n",
       "      <td>1.0</td>\n",
       "      <td>3.664244e+04</td>\n",
       "      <td>1069.823273</td>\n",
       "      <td>2.060261e-233</td>\n",
       "      <td>0.010585</td>\n",
       "    </tr>\n",
       "    <tr>\n",
       "      <th>3</th>\n",
       "      <td>Residual</td>\n",
       "      <td>3.424956e+06</td>\n",
       "      <td>99996.0</td>\n",
       "      <td>3.425093e+01</td>\n",
       "      <td>NaN</td>\n",
       "      <td>NaN</td>\n",
       "      <td>NaN</td>\n",
       "    </tr>\n",
       "  </tbody>\n",
       "</table>\n",
       "</div>"
      ],
      "text/plain": [
       "            Source            SS       DF            MS              F  \\\n",
       "0            group  3.837195e+06      1.0  3.837195e+06  112031.864119   \n",
       "1          segment  2.362480e+07      1.0  2.362480e+07  689756.377484   \n",
       "2  group * segment  3.664244e+04      1.0  3.664244e+04    1069.823273   \n",
       "3         Residual  3.424956e+06  99996.0  3.425093e+01            NaN   \n",
       "\n",
       "           p-unc       np2  \n",
       "0   0.000000e+00  0.528383  \n",
       "1   0.000000e+00  0.873383  \n",
       "2  2.060261e-233  0.010585  \n",
       "3            NaN       NaN  "
      ]
     },
     "execution_count": 69,
     "metadata": {},
     "output_type": "execute_result"
    }
   ],
   "source": [
    "pg.anova(df2, dv='events', between=['group', 'segment'])"
   ]
  },
  {
   "cell_type": "code",
   "execution_count": null,
   "id": "bda921bb-b53d-4edc-bb21-dc28e2760398",
   "metadata": {},
   "outputs": [],
   "source": [
    "p-значения для группы, сегмента и их взаимодействия меньше 0.05, значит оказывают статистически значимое влияние \n",
    "на количество заказов"
   ]
  },
  {
   "cell_type": "code",
   "execution_count": null,
   "id": "6d2a8dc6-94bf-4ab1-9cbf-6ebf7c6218b3",
   "metadata": {},
   "outputs": [],
   "source": []
  },
  {
   "cell_type": "code",
   "execution_count": 68,
   "id": "34d508f3-224f-4b7f-be2e-1c71f6b1d37e",
   "metadata": {},
   "outputs": [
    {
     "name": "stdout",
     "output_type": "stream",
     "text": [
      "        Multiple Comparison of Means - Tukey HSD, FWER=0.05         \n",
      "====================================================================\n",
      "    group1         group2    meandiff p-adj  lower    upper   reject\n",
      "--------------------------------------------------------------------\n",
      "control \\ high control \\ low -39.9392   0.0 -40.1073 -39.7711   True\n",
      "control \\ high   test \\ high   9.9677   0.0   9.7551  10.1803   True\n",
      "control \\ high    test \\ low -26.9449   0.0  -27.113 -26.7768   True\n",
      " control \\ low   test \\ high  49.9069   0.0  49.7388   50.075   True\n",
      " control \\ low    test \\ low  12.9944   0.0   12.888  13.1007   True\n",
      "   test \\ high    test \\ low -36.9126   0.0 -37.0807 -36.7445   True\n",
      "--------------------------------------------------------------------\n"
     ]
    }
   ],
   "source": [
    "print(pairwise_tukeyhsd(df2['events'], df2['combination']).summary())"
   ]
  },
  {
   "cell_type": "code",
   "execution_count": null,
   "id": "4f309b36-6d2c-4b4e-ac2e-65affc56db57",
   "metadata": {},
   "outputs": [],
   "source": [
    "отклоняем нулевую гипотезу"
   ]
  },
  {
   "cell_type": "code",
   "execution_count": null,
   "id": "e2f4ed9a-14f3-43b9-ad0e-2eadbe5001c2",
   "metadata": {},
   "outputs": [],
   "source": []
  },
  {
   "cell_type": "code",
   "execution_count": null,
   "id": "28ec8bc7-ec45-4e6d-a2ff-20de134cb9e5",
   "metadata": {},
   "outputs": [],
   "source": [
    "Визуализируем результаты теста"
   ]
  },
  {
   "cell_type": "code",
   "execution_count": 74,
   "id": "c84d5fcc-339e-4204-ac1a-9af836f20655",
   "metadata": {},
   "outputs": [
    {
     "data": {
      "text/plain": [
       "Text(0, 0.5, 'Количество заказанных блюд')"
      ]
     },
     "execution_count": 74,
     "metadata": {},
     "output_type": "execute_result"
    },
    {
     "data": {
      "image/png": "[encoded data removed]",
      "text/plain": [
       "<Figure size 2000x700 with 1 Axes>"
      ]
     },
     "metadata": {},
     "output_type": "display_data"
    }
   ],
   "source": [
    "sns.pointplot(x = 'group', y = 'events', hue = 'segment', data=df2, capsize=0.2)\n",
    "plt.title('График зависимости количества заказов от группы и сегмента')\n",
    "plt.xlabel('Группа')\n",
    "plt.ylabel('Количество заказанных блюд')"
   ]
  },
  {
   "cell_type": "code",
   "execution_count": 76,
   "id": "8e1f3af4-ab22-460a-8df1-793499425965",
   "metadata": {},
   "outputs": [
    {
     "data": {
      "text/plain": [
       "Text(0, 0.5, 'Количество заказанных блюд')"
      ]
     },
     "execution_count": 76,
     "metadata": {},
     "output_type": "execute_result"
    },
    {
     "data": {
      "image/png": "[encoded data removed]",
      "text/plain": [
       "<Figure size 2000x700 with 1 Axes>"
      ]
     },
     "metadata": {},
     "output_type": "display_data"
    }
   ],
   "source": [
    "sns.boxplot(x = 'group', y = 'events', hue = 'segment', data=df2)\n",
    "plt.title('График зависимости количества заказов от группы и сегмента')\n",
    "plt.xlabel('Группа')\n",
    "plt.ylabel('Количество заказанных блюд')"
   ]
  },
  {
   "cell_type": "code",
   "execution_count": null,
   "id": "b1da2c85-4a31-4f7d-ba05-e792e6561249",
   "metadata": {},
   "outputs": [],
   "source": [
    "Вывод: факторы group, segment и их взаимодействие оказались значимыми. Среднее увеличивается во всех случаях увеличивается,\n",
    "значит новая версия хорошо показала себя!"
   ]
  }
 ],
 "metadata": {
  "kernelspec": {
   "display_name": "Python 3 (ipykernel)",
   "language": "python",
   "name": "python3"
  },
  "language_info": {
   "codemirror_mode": {
    "name": "ipython",
    "version": 3
   },
   "file_extension": ".py",
   "mimetype": "text/x-python",
   "name": "python",
   "nbconvert_exporter": "python",
   "pygments_lexer": "ipython3",
   "version": "3.11.5"
  }
 },
 "nbformat": 4,
 "nbformat_minor": 5
}
